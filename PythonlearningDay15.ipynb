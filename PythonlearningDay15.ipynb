{
  "nbformat": 4,
  "nbformat_minor": 0,
  "metadata": {
    "colab": {
      "provenance": []
    },
    "kernelspec": {
      "name": "python3",
      "display_name": "Python 3"
    },
    "language_info": {
      "name": "python"
    }
  },
  "cells": [
    {
      "cell_type": "code",
      "execution_count": null,
      "metadata": {
        "id": "pj5F6LitgZCh"
      },
      "outputs": [],
      "source": [
        "# problem solving\n",
        "#\n",
        "# basic syntax, if-else, loops, for while\n",
        "# list, dictionary, set, set operator\n",
        "# list, dictionary\n",
        "# enumerate, zip function\n",
        "# functions"
      ]
    },
    {
      "cell_type": "code",
      "source": [
        "# Today topic function\n",
        "# Collection of statement\n",
        "'''\n",
        "code reusuable\n",
        "a=10\n",
        "b=20\n",
        "c=15\n",
        "d=25\n",
        "c+d\n",
        "\n",
        "-- fuction\n",
        "-- error handle/ debugg\n",
        "\n",
        "'''"
      ],
      "metadata": {
        "id": "FvV5cZYD0yLN"
      },
      "execution_count": null,
      "outputs": []
    },
    {
      "cell_type": "code",
      "source": [
        "# funtion declaration\n",
        "def regex():\n",
        "  var=\"krishna\" # local variable\n",
        "  print(\"hello\",var)\n",
        "  print(\"good morning\")"
      ],
      "metadata": {
        "id": "X3e9IKE21c6M"
      },
      "execution_count": 3,
      "outputs": []
    },
    {
      "cell_type": "code",
      "source": [
        "regex()"
      ],
      "metadata": {
        "colab": {
          "base_uri": "https://localhost:8080/"
        },
        "id": "sVZmnEUR2j4C",
        "outputId": "7b5e904c-0f06-4ffa-8e63-a54101fbff8d"
      },
      "execution_count": 8,
      "outputs": [
        {
          "output_type": "stream",
          "name": "stdout",
          "text": [
            "hello krishna\n",
            "good morning\n"
          ]
        }
      ]
    },
    {
      "cell_type": "code",
      "source": [
        "var=\"krishna\" # global variable\n",
        "def regex():\n",
        "  print(\"hello\",var)\n",
        "  print(\"good morning\")"
      ],
      "metadata": {
        "id": "I4va1Cvq2mYz"
      },
      "execution_count": 9,
      "outputs": []
    },
    {
      "cell_type": "code",
      "source": [
        "regex()\n",
        "print(var)"
      ],
      "metadata": {
        "colab": {
          "base_uri": "https://localhost:8080/"
        },
        "id": "AIQJP_kO3xo9",
        "outputId": "db575918-28e7-418d-8900-f3cd675451ce"
      },
      "execution_count": 10,
      "outputs": [
        {
          "output_type": "stream",
          "name": "stdout",
          "text": [
            "hello krishna\n",
            "good morning\n",
            "krishna\n"
          ]
        }
      ]
    },
    {
      "cell_type": "code",
      "source": [
        "var=\"krishna\" # global variable\n",
        "def regex():\n",
        "  var=\"shyam\" # local variable\n",
        "  print(\"hello\",var)\n",
        "  print(\"good morning\")"
      ],
      "metadata": {
        "id": "DBYVioZL3z_w"
      },
      "execution_count": 11,
      "outputs": []
    },
    {
      "cell_type": "code",
      "source": [
        "regex()\n",
        "print(var)"
      ],
      "metadata": {
        "colab": {
          "base_uri": "https://localhost:8080/"
        },
        "id": "lYm4FSDf495j",
        "outputId": "2db81144-b932-45e3-d858-836a057f2ddd"
      },
      "execution_count": 12,
      "outputs": [
        {
          "output_type": "stream",
          "name": "stdout",
          "text": [
            "hello shyam\n",
            "good morning\n",
            "krishna\n"
          ]
        }
      ]
    },
    {
      "cell_type": "code",
      "source": [
        "def regex(x):\n",
        "  print(\"hello\",x)\n",
        "  print(\"good morning\")\n",
        "\n",
        "regex(\"krishna\")\n",
        "regex(\"shyam\")"
      ],
      "metadata": {
        "colab": {
          "base_uri": "https://localhost:8080/"
        },
        "id": "-kgCpRQ95B3C",
        "outputId": "6f4311a7-90a4-458e-d7b3-a86e0ace3d11"
      },
      "execution_count": 14,
      "outputs": [
        {
          "output_type": "stream",
          "name": "stdout",
          "text": [
            "hello krishna\n",
            "good morning\n",
            "hello shyam\n",
            "good morning\n"
          ]
        }
      ]
    },
    {
      "cell_type": "code",
      "source": [
        "def regex(c,d):\n",
        "  print(\"adding number\",\"c:\",c,\"d:\",d,\"=\",c+d)"
      ],
      "metadata": {
        "id": "XLKmr0Fm5nhP"
      },
      "execution_count": 26,
      "outputs": []
    },
    {
      "cell_type": "code",
      "source": [
        "a=10\n",
        "b=20\n",
        "\n",
        "x=98\n",
        "y=76\n",
        "\n",
        "regex(10,20)\n",
        "regex(100,20)\n",
        "regex(a,b)\n",
        "regex(x,y)"
      ],
      "metadata": {
        "colab": {
          "base_uri": "https://localhost:8080/"
        },
        "id": "UWQ9zD-C6i4Y",
        "outputId": "4233dc40-de55-44a2-9b64-49d93b672fd9"
      },
      "execution_count": 27,
      "outputs": [
        {
          "output_type": "stream",
          "name": "stdout",
          "text": [
            "adding number c: 10 d: 20 = 30\n",
            "adding number c: 100 d: 20 = 120\n",
            "adding number c: 10 d: 20 = 30\n",
            "adding number c: 98 d: 76 = 174\n"
          ]
        }
      ]
    },
    {
      "cell_type": "code",
      "source": [
        "def regex(c): # parameter\n",
        "  c=11\n",
        "  print(\"c Value is=\",c,id(c))"
      ],
      "metadata": {
        "id": "3G7hLeoz6nsr"
      },
      "execution_count": 37,
      "outputs": []
    },
    {
      "cell_type": "code",
      "source": [
        "a=10\n",
        "print(\"before a\",id(a))\n",
        "regex(10) #10=> argument\n",
        "regex(a)\n",
        "print(\"after a\",id(a),a)"
      ],
      "metadata": {
        "colab": {
          "base_uri": "https://localhost:8080/"
        },
        "id": "KbukKVyb8Xt2",
        "outputId": "300565ef-b43c-4531-ea5b-eea52411ddd5"
      },
      "execution_count": 40,
      "outputs": [
        {
          "output_type": "stream",
          "name": "stdout",
          "text": [
            "before a 10751144\n",
            "c Value is= 11 10751176\n",
            "c Value is= 11 10751176\n",
            "after a 10751144 10\n"
          ]
        }
      ]
    },
    {
      "cell_type": "code",
      "source": [
        "# type of argument\n",
        "def func(eid, name, salary):\n",
        "  print(f\"eid:{eid} Name:{name} Salary:{salary}\")"
      ],
      "metadata": {
        "id": "UttRJLNl8aoL"
      },
      "execution_count": 49,
      "outputs": []
    },
    {
      "cell_type": "code",
      "source": [
        "# required argument\n",
        "func(10,\"harshit\",9999)\n",
        "func(11,\"himanshu\",9999)"
      ],
      "metadata": {
        "colab": {
          "base_uri": "https://localhost:8080/"
        },
        "id": "r73GynBk_n-y",
        "outputId": "bc238e69-a30e-4ee5-cbf7-9287d5f44805"
      },
      "execution_count": 51,
      "outputs": [
        {
          "output_type": "stream",
          "name": "stdout",
          "text": [
            "eid:10 Name:harshit Salary:9999\n",
            "eid:11 Name:himanshu Salary:9999\n"
          ]
        }
      ]
    },
    {
      "cell_type": "code",
      "source": [
        "# positional argument\n",
        "func(\"harshit\",9999,10)\n",
        "func(11,\"himanshu\",9999)"
      ],
      "metadata": {
        "colab": {
          "base_uri": "https://localhost:8080/"
        },
        "id": "WL3cNSzh_tGu",
        "outputId": "2fafa154-8ebf-40e6-97f1-915e0e760d1f"
      },
      "execution_count": 53,
      "outputs": [
        {
          "output_type": "stream",
          "name": "stdout",
          "text": [
            "eid:harshit Name:9999 Salary:10\n",
            "eid:11 Name:himanshu Salary:9999\n"
          ]
        }
      ]
    },
    {
      "cell_type": "code",
      "source": [
        "# keyword argument\n",
        "def func(eid, name, salary):\n",
        "  print(f\"eid:{eid} Name:{name} Salary:{salary}\")\n",
        "\n",
        "func(eid=10,salary=9999,name=\"jai\")\n",
        "func(eid=10,name=\"jai\",salary=9999)"
      ],
      "metadata": {
        "colab": {
          "base_uri": "https://localhost:8080/"
        },
        "id": "eLgTlo45BCA3",
        "outputId": "c3626a52-bb53-498d-e8c3-f496374c1a12"
      },
      "execution_count": 55,
      "outputs": [
        {
          "output_type": "stream",
          "name": "stdout",
          "text": [
            "eid:10 Name:jai Salary:9999\n",
            "eid:10 Name:jai Salary:9999\n"
          ]
        }
      ]
    },
    {
      "cell_type": "code",
      "source": [
        "def func(eid, name, salary):\n",
        "  print(f\"eid:{eid} Name:{name} Salary:{salary}\")\n",
        "\n",
        "# func(salary=9999,name=\"jai\",10) error\n",
        "# func(999,name=\"jai\",10) error\n",
        "# positional argument starting not mid and last\n",
        "# func(9999,10,name=\"jai\") error => multiple values\n",
        "func(9999,\"jai\",salary=10)"
      ],
      "metadata": {
        "colab": {
          "base_uri": "https://localhost:8080/"
        },
        "id": "Ep3pbNrQCCNs",
        "outputId": "32f5fe39-5ed2-4a89-feaa-55422c6709f9"
      },
      "execution_count": 59,
      "outputs": [
        {
          "output_type": "stream",
          "name": "stdout",
          "text": [
            "eid:9999 Name:jai Salary:10\n"
          ]
        }
      ]
    },
    {
      "cell_type": "code",
      "source": [],
      "metadata": {
        "id": "0XCw_eJ2CYmy"
      },
      "execution_count": null,
      "outputs": []
    }
  ]
}